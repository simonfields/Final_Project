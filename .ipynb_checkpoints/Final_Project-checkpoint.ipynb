{
 "cells": [
  {
   "cell_type": "markdown",
   "metadata": {},
   "source": [
    "# Home, Home on Lagrange: Simulating particles in space\n",
    "\n",
    "Simon Fields"
   ]
  },
  {
   "cell_type": "markdown",
   "metadata": {},
   "source": [
    "## Table of Contents\n",
    "\n",
    "* [Introduction](#introduction)\n",
    "* [Model](#model)\n",
    "* [Numerical Methods](#numerical-methods)\n",
    "* [Results](#results)\n",
    "* [Analysis](#analysis)\n",
    "* [Summary](#summary)\n",
    "* [References](#references)\n",
    "\n",
    "\n"
   ]
  },
  {
   "cell_type": "markdown",
   "metadata": {},
   "source": [
    "<a id='introduction'></a>\n",
    "\n",
    "# Introduction \n",
    "\n",
    "\n",
    "In a system of two bodies in orbit, there exists five Lagrangian Points (referred to as L1-L5) in which gravitational forces act against one another to allow smaller objects to maintain position relative to the bodies. *add more here\n",
    "\n",
    "Stable equilibrium exists at L4 and L5 which is different from points L1-L3. Objects that are in L1-L3 have a tendency to fall out of orbit, and would have to be manually adjusted in order to maintain position. Due to the gravity of both large bodies in the system, objects in L4 or L5 maintain a kidney-shaped orbit at the LP. One way to describe the difference would be “marble perched atop a bowling ball” versus “marble at the bottom of a bowl” (NASA)\n",
    "\n",
    "One consequence of the equilibrium that exists at L4 and L5 are the congregation of natural bodies. Larger bodies in our solar system, such as Jupiter or Saturn, have moons in their LP. This is different for bodies close to home like Earth or Mars. Instead of larger objects like moons, interplanetary dust and asteroids can and have accumulated here. One question this now poses regarding the future of spacecraft is how small particles and objects act in LP and if they’re dangerous or not. "
   ]
  },
  {
   "attachments": {},
   "cell_type": "markdown",
   "metadata": {},
   "source": [
    "<a id='model'></a>\n",
    "\n",
    "# Model\n",
    "\n",
    "The model I will be using involves Newton's law of gravitation, \n",
    "                                    $F = G\\frac{(M_{1}m_{2})}{r^2}$\n",
    "                                    \n",
    "T = 2pi*sqrt(a^3/mu) orbital period,\n",
    "\n",
    "For earth , T = 1 and r = 1 AU\n",
    "\n",
    "mu = 4*pi***2\n",
    "\n",
    "Mean Orbital Speed refers to the average speed an object rotates around a larger mass. This is used in modeling an orbit.\n",
    "\n",
    "### $v\\approx\\frac{2\\pi\\alpha}{T}$ \n",
    "\n",
    "\n",
    "*write as vector, use diagrams from book\n",
    "\n",
    "\n",
    "\n",
    "If an orbit or system are to be expressed on a graph undergoing two-dimensional motion, bodies will be expressed using vector notation and forces can be calculated using trigonometry.\n",
    "\n",
    "An additional important step in celestial mechanics is to make some generalizations: The Sun is non-moving and placed at origin; All bodies affecting the system are represented; All bodies are moving along the same plane. Also, due to the sheer vastness of the universe, proper scaling needs to be done. This involves normalizing measurments, including mass, length, and time. This specific case looks at the system between the Sun, Earth, and Jupiter. Scaling factors used are:\n",
    "\n",
    "$$\\nonumber T = 365 \\times 24\\times 60 \\times 60 \\,seconds = 1.0 \\, year$$\n",
    "$$R = 1.5 \\times 10^{11} \\,m = 1.0 \\, AU $$\n",
    "$$M = 6 \\times 10^{24} \\,kg = 1.0 \\, M_E$$\n",
    "\n",
    "\n",
    "The two Differential Equations necessary to solve a three-body system are as follows: \n",
    "$$    \\nonumber    \\frac{d \\bf{\\hat{r}}}{d \\hat{t}} = \\hat{\\bf{v}} \\hspace{5cm} (7) $$\n",
    "    \n",
    "$$\\frac{d \\bf{\\hat{v}}}{d \\hat{t}} = \\frac{\\bf{\\hat{F}}}{\\hat{M_E} } \\hspace{5cm} (8)$$\n",
    "\n",
    "\n",
    "\n",
    "\n",
    ".\n",
    ".\n",
    ".\n",
    ".\n",
    "\n",
    "The Force given by Newton's law can be written as\n",
    "$$\n",
    "     \\nonumber\n",
    "    |{\\bf{F}}| = \\frac{GM_EM_S}{|\\bf{r}|^2} = \\frac{\\hat{M}_E \\hat{M}_S}{|\\hat{\\bf{r}}|^2}\\frac{GM^2}{R^2} \n",
    "$$,\n",
    "\n",
    "where\n",
    "$$\n",
    "    \\hat{G} = \\frac{GMT^2}{R^3}\n",
    "$$\n",
    "\n",
    "\n",
    "$$\n",
    "    \\nonumber\n",
    "    \\bf{F} = |\\bf{F}|\\cos(\\theta) \\hat{\\bf{i}}  + |\\bf{F}|\\sin(\\theta) \\hat{\\bf{j}}\n",
    "$$\n",
    "where\n",
    "$$\n",
    "    \\theta = \\tan^{-1}\\frac{y}{x}\n",
    "$$\n",
    "\n",
    "\n",
    "A three body system can be expredssed using a set of coupled differential equations.\n",
    "\n",
    "To effectively model the program, we are assuming that the particle and moon are orbiting the same plane of motion. This allows for the coordinate plane to be flat along the x-y plane about the Earth."
   ]
  },
  {
   "cell_type": "markdown",
   "metadata": {},
   "source": [
    "*Insert figure of two body system with lagrange points"
   ]
  },
  {
   "cell_type": "code",
   "execution_count": null,
   "metadata": {},
   "outputs": [],
   "source": [
    "# x_earth, y_earth = position of earth\n",
    "# v_x_earth,v_y_earth = velocity\n",
    "# x_jup, y_jup = pos. of jup\n",
    "# v_x_jup, v_y_jup = vel. of jup\n",
    "# m1 = earth\n",
    "# m2 = jup\n",
    "# m_sun = mass sun\n",
    "# dt = time step\n",
    "\n",
    "import math\n",
    "import numpy as np\n",
    "import matplotlib as plt\n",
    "\n",
    "# set sun as origin\n",
    "#r = np.sqrt(x_position**2 + y_position)"
   ]
  },
  {
   "cell_type": "markdown",
   "metadata": {},
   "source": [
    "<a id='numerical-methods'></a>\n",
    "# Numerical Methods\n"
   ]
  },
  {
   "cell_type": "markdown",
   "metadata": {},
   "source": [
    "I first used \"\"\"\" to model Giordano's two body problem, specifically modeling the Earth's orbit. This method uses standard celestial mechanics, which assumes the distance between the sun and earth is one AU. "
   ]
  },
  {
   "cell_type": "code",
   "execution_count": 8,
   "metadata": {},
   "outputs": [],
   "source": [
    "import numpy as np\n",
    "import matplotlib.pyplot as plt"
   ]
  },
  {
   "cell_type": "code",
   "execution_count": 11,
   "metadata": {},
   "outputs": [],
   "source": [
    "#steps = 365\n",
    "#r = 1 AU\n",
    "#dt = 1/steps\n",
    "#mu = 4*np.pi**2\n",
    "\n",
    "def earth_orbit(steps=365,r=1):\n",
    "    '''\n",
    "    plots the orbit of Earth for\n",
    "    the standard number of days in a year, 365.\n",
    "    \n",
    "    args: \n",
    "    steps = points plotted on graph, on scale of days\n",
    "    r = distance from sun, defuault is 1 AU\n",
    "    '''\n",
    "    mu = 4*np.pi**2\n",
    "    \n",
    "    dt = 1./steps\n",
    "    x = np.zeros(steps)\n",
    "    y = np.zeros(steps)\n",
    "    v_x = np.zeros(steps)\n",
    "    v_y = np.zeros(steps)\n",
    "    \n",
    "    # initialize orbit\n",
    "    x[0] = r\n",
    "    v_y[0] = np.sqrt(mu/r) # mean orbital speed\n",
    "    \n",
    "    for step in range(0,steps-1):\n",
    "        v_x[step+1] = v_x[step]-(4*np.pi**2*x[step]/(r**3))*dt\n",
    "        x[step+1] = x[step]+v_x[step+1]*dt\n",
    "        v_y[step+1]=v_y[step]-4*np.pi**2*y[step]/(r**3)*dt\n",
    "        y[step+1]=y[step]+v_y[step+1]*dt\n",
    "        \n",
    "    plt.plot(x,y,'bo')\n",
    "    plt.axis('equal')\n",
    "    plt.show()\n",
    "    \n",
    "#print(\"Full Year Roration\",earth_orbit(365))\n",
    "\n",
    "#print(earth_orbit(20))\n",
    "\n",
    "#print(earth_orbit())\n",
    "\n",
    "# time unit is 1 year, dt is instead of 1 as dt, have total sim time defined in function in numerator, and steps in denominator\n",
    "\n",
    "#earth moon will need to be more like one month."
   ]
  },
  {
   "cell_type": "markdown",
   "metadata": {},
   "source": [
    "These are simple plots that show the position of a floating body (Earth) as it orbits the origin, which is the larger body in the system (Sun). The first plot shows data for a full year. In celestial mechanics, using SI units is generally discouraged due to the vastness of space. It is much less awkward to call the average distance from the Earth to Sun 1 AU (Astronomical Unit) rather than its value in SI, which is $1.46x10^8$ meters."
   ]
  },
  {
   "cell_type": "markdown",
   "metadata": {},
   "source": [
    "<a id='results'></a>\n",
    "# Results\n"
   ]
  },
  {
   "cell_type": "code",
   "execution_count": null,
   "metadata": {},
   "outputs": [],
   "source": [
    "#Plotting all the functions!\n"
   ]
  },
  {
   "cell_type": "code",
   "execution_count": 12,
   "metadata": {},
   "outputs": [
    {
     "data": {
      "image/png": "[encoded data removed]",
      "text/plain": [
       "<Figure size 432x288 with 1 Axes>"
      ]
     },
     "metadata": {
      "needs_background": "light"
     },
     "output_type": "display_data"
    },
    {
     "name": "stdout",
     "output_type": "stream",
     "text": [
      "None\n"
     ]
    }
   ],
   "source": [
    "print(earth_orbit())"
   ]
  },
  {
   "cell_type": "markdown",
   "metadata": {},
   "source": [
    "<a id='analysis'></a>\n",
    "# Analysis\n"
   ]
  },
  {
   "cell_type": "code",
   "execution_count": null,
   "metadata": {},
   "outputs": [],
   "source": []
  },
  {
   "cell_type": "markdown",
   "metadata": {},
   "source": [
    "<a id='summary'></a>\n",
    "# Summary\n"
   ]
  },
  {
   "cell_type": "markdown",
   "metadata": {},
   "source": [
    "### Scientific Summary\n",
    "This project has done \n",
    "\n",
    "\n",
    "### Personal Summary\n",
    "\n"
   ]
  },
  {
   "cell_type": "markdown",
   "metadata": {},
   "source": [
    "<a id='references'></a>\n",
    "# References\n",
    "\n",
    "List of references\n",
    "\n",
    "* http://datagenetics.com/blog/august32016/index.html\n",
    "\n",
    "* https://www-spof.gsfc.nasa.gov/stargaze/Slagrng2.htm\n",
    "\n",
    "* https://en.wikipedia.org/wiki/Lagrangian_point\n",
    "\n"
   ]
  },
  {
   "cell_type": "code",
   "execution_count": null,
   "metadata": {},
   "outputs": [],
   "source": []
  }
 ],
 "metadata": {
  "kernelspec": {
   "display_name": "Python 3",
   "language": "python",
   "name": "python3"
  },
  "language_info": {
   "codemirror_mode": {
    "name": "ipython",
    "version": 3
   },
   "file_extension": ".py",
   "mimetype": "text/x-python",
   "name": "python",
   "nbconvert_exporter": "python",
   "pygments_lexer": "ipython3",
   "version": "3.7.4"
  }
 },
 "nbformat": 4,
 "nbformat_minor": 2
}
