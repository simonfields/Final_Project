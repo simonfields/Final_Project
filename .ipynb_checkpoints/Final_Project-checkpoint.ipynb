{
 "cells": [
  {
   "cell_type": "markdown",
   "metadata": {},
   "source": [
    "# Home, Home on Lagrange: Simulating particles in space\n",
    "\n",
    "Simon Fields"
   ]
  },
  {
   "cell_type": "markdown",
   "metadata": {},
   "source": [
    "## Table of Contents\n",
    "\n",
    "* [Introduction](#introduction)\n",
    "* Model\n",
    "* Numerical Methods\n",
    "* Results\n",
    "* Analysis\n",
    "* Summary\n",
    "* References\n",
    "\n",
    "\n"
   ]
  },
  {
   "cell_type": "code",
   "execution_count": 1,
   "metadata": {},
   "outputs": [],
   "source": [
    "# How do I link to a specific part of my notebook?\n",
    "\n",
    "\n"
   ]
  },
  {
   "cell_type": "markdown",
   "metadata": {},
   "source": [
    "# Introduction \n",
    "[Introduction](#introduction)\n",
    "\n",
    "* introduction\n",
    "\n",
    "In a system of two bodies in orbit, there exists 5 Lagrangian Points (referred to as L1-L5) in which gravitational forces act against one another to allow smaller objects to maintain position relative to the bodies. *add more here\n",
    "\n",
    "Stable equilibrium exists at L4 and L5 which is different from points L1-L3. Objects that are in L1-L3 have a tendency to fall out of orbit, and would have to be manually adjusted in order to maintain position. Due to the gravity of both large bodies in the system, objects in L4 or L5 maintain a kidney-shaped orbit at the LP. One way to describe the difference would be “marble perched atop a bowling ball” versus “marble at the bottom of a bowl” (NASA)\n",
    "\n",
    "One consequence of the equilibrium that exists at L4 and L5 are the congregation of natural bodies. Larger bodies in our solar system, such as Jupiter or Saturn, have moons in their LP. This is different for bodies close to home like Earth or Mars. Instead of larger objects like moons, interplanetary dust and asteroids can and have accumulated here. One question this now poses regarding the future of spacecraft is how small particles and objects act in LP and if they’re dangerous or not. "
   ]
  },
  {
   "cell_type": "markdown",
   "metadata": {},
   "source": [
    "# Model\n"
   ]
  },
  {
   "cell_type": "markdown",
   "metadata": {},
   "source": [
    "# Numerical Methods\n"
   ]
  },
  {
   "cell_type": "markdown",
   "metadata": {},
   "source": [
    "# Results\n"
   ]
  },
  {
   "cell_type": "markdown",
   "metadata": {},
   "source": [
    "# Analysis\n"
   ]
  },
  {
   "cell_type": "markdown",
   "metadata": {},
   "source": [
    "# Summary"
   ]
  },
  {
   "cell_type": "markdown",
   "metadata": {},
   "source": [
    "# References"
   ]
  },
  {
   "cell_type": "code",
   "execution_count": null,
   "metadata": {},
   "outputs": [],
   "source": []
  },
  {
   "cell_type": "code",
   "execution_count": null,
   "metadata": {},
   "outputs": [],
   "source": []
  },
  {
   "cell_type": "code",
   "execution_count": null,
   "metadata": {},
   "outputs": [],
   "source": []
  },
  {
   "cell_type": "code",
   "execution_count": null,
   "metadata": {},
   "outputs": [],
   "source": []
  },
  {
   "cell_type": "code",
   "execution_count": null,
   "metadata": {},
   "outputs": [],
   "source": []
  }
 ],
 "metadata": {
  "kernelspec": {
   "display_name": "Python 3",
   "language": "python",
   "name": "python3"
  },
  "language_info": {
   "codemirror_mode": {
    "name": "ipython",
    "version": 3
   },
   "file_extension": ".py",
   "mimetype": "text/x-python",
   "name": "python",
   "nbconvert_exporter": "python",
   "pygments_lexer": "ipython3",
   "version": "3.7.4"
  }
 },
 "nbformat": 4,
 "nbformat_minor": 2
}
