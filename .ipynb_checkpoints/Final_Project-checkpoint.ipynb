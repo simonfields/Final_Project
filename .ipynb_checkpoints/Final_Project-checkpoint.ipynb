{
 "cells": [
  {
   "cell_type": "markdown",
   "metadata": {},
   "source": [
    "# Home, Home on Lagrange: Simulating particles in space\n",
    "\n",
    "Simon Fields"
   ]
  },
  {
   "cell_type": "markdown",
   "metadata": {},
   "source": [
    "## Table of Contents\n",
    "\n",
    "* [Introduction](#introduction)\n",
    "* Model\n",
    "* Numerical Methods\n",
    "* Results\n",
    "* Analysis\n",
    "* Summary\n",
    "* References\n",
    "\n",
    "\n"
   ]
  },
  {
   "cell_type": "code",
   "execution_count": 1,
   "metadata": {},
   "outputs": [],
   "source": [
    "# How do I link to a specific part of my notebook?\n",
    "\n",
    "\n"
   ]
  },
  {
   "cell_type": "markdown",
   "metadata": {},
   "source": [
    "# Introduction \n",
    "[Introduction](#introduction)\n",
    "\n",
    "* introduction\n",
    "\n",
    "In a system of two bodies in orbit, there exists 5 Lagrangian Points (referred to as L1-L5) in which gravitational forces act against one another to allow smaller objects to maintain position relative to the bodies. *add more here\n",
    "\n",
    "Stable equilibrium exists at L4 and L5 which is different from points L1-L3. Objects that are in L1-L3 have a tendency to fall out of orbit, and would have to be manually adjusted in order to maintain position. Due to the gravity of both large bodies in the system, objects in L4 or L5 maintain a kidney-shaped orbit at the LP. One way to describe the difference would be “marble perched atop a bowling ball” versus “marble at the bottom of a bowl” (NASA)\n",
    "\n",
    "One consequence of the equilibrium that exists at L4 and L5 are the congregation of natural bodies. Larger bodies in our solar system, such as Jupiter or Saturn, have moons in their LP. This is different for bodies close to home like Earth or Mars. Instead of larger objects like moons, interplanetary dust and asteroids can and have accumulated here. One question this now poses regarding the future of spacecraft is how small particles and objects act in LP and if they’re dangerous or not. "
   ]
  },
  {
   "attachments": {},
   "cell_type": "markdown",
   "metadata": {},
   "source": [
    "# Model\n",
    "\n",
    "The model I will be using involves Newton's law of gravitation, \n",
    "                                    $F = G\\frac{(M_{1}m_{2})}{r^2}$\n",
    "                                    \n",
    "T = 2pi*sqrt(a^3/mu) orbital period,\n",
    "\n",
    "For earth , T = 1 and r = 1 AU\n",
    "\n",
    "mu = 4*pi***2\n",
    "\n",
    "Mean Orbital Speed: \n",
    "\n",
    "### $v\\approx\\frac{2\\pi\\alpha}{T}$ \n",
    "\n",
    "\n"
   ]
  },
  {
   "cell_type": "code",
   "execution_count": null,
   "metadata": {},
   "outputs": [],
   "source": []
  },
  {
   "cell_type": "code",
   "execution_count": null,
   "metadata": {},
   "outputs": [],
   "source": [
    "# x_earth, y_earth = position of earth\n",
    "# v_x_earth,v_y_earth = velocity\n",
    "# x_jup, y_jup = pos. of jup\n",
    "# v_x_jup, v_y_jup = vel. of jup\n",
    "# m1 = earth\n",
    "# m2 = jup\n",
    "# m_sun = mass sun\n",
    "# dt = time step\n",
    "\n",
    "import math\n",
    "import numpy as np\n",
    "import matplotlib as plt\n",
    "\n",
    "# set sun as origin\n",
    "#r = np.sqrt(x_position**2 + y_position)"
   ]
  },
  {
   "cell_type": "markdown",
   "metadata": {},
   "source": [
    "# Numerical Methods\n"
   ]
  },
  {
   "cell_type": "code",
   "execution_count": 5,
   "metadata": {},
   "outputs": [
    {
     "data": {
      "image/png": "[encoded data removed]",
      "text/plain": [
       "<Figure size 432x288 with 1 Axes>"
      ]
     },
     "metadata": {
      "needs_background": "light"
     },
     "output_type": "display_data"
    },
    {
     "name": "stdout",
     "output_type": "stream",
     "text": [
      "None\n"
     ]
    },
    {
     "data": {
      "image/png": "[encoded data removed]",
      "text/plain": [
       "<Figure size 432x288 with 1 Axes>"
      ]
     },
     "metadata": {
      "needs_background": "light"
     },
     "output_type": "display_data"
    },
    {
     "name": "stdout",
     "output_type": "stream",
     "text": [
      "None\n"
     ]
    }
   ],
   "source": [
    "import numpy as np\n",
    "import matplotlib.pyplot as plt\n",
    "\n",
    "#steps = 365\n",
    "#r = 1 AU\n",
    "#dt = 1/steps\n",
    "#mu = 4*np.pi**2\n",
    "\n",
    "def earth_orbit(steps,r=1):\n",
    "    '''\n",
    "    plots the orbit of Earth for\n",
    "    a given amount of time\n",
    "    \n",
    "    args: \n",
    "    steps = points plotted on graph, on scale of days\n",
    "    r = distance from sun, defuault is 1 AU\n",
    "    '''\n",
    "    mu = 4*np.pi**2\n",
    "    dt = 1./steps\n",
    "    x = np.zeros(steps)\n",
    "    y = np.zeros(steps)\n",
    "    v_x = np.zeros(steps)\n",
    "    v_y = np.zeros(steps)\n",
    "    \n",
    "    # initialize orbit\n",
    "    x[0] = r\n",
    "    v_y[0] = np.sqrt(mu/r) # mean orbital speed\n",
    "    \n",
    "    for step in range(0,steps-1):\n",
    "        v_x[step+1] = v_x[step]-(4*np.pi**2*x[step]/(r**3))*dt\n",
    "        x[step+1] = x[step]+v_x[step+1]*dt\n",
    "        v_y[step+1]=v_y[step]-4*np.pi**2*y[step]/(r**3)*dt\n",
    "        y[step+1]=y[step]+v_y[step+1]*dt\n",
    "        \n",
    "    plt.plot(x,y,'bo')\n",
    "    plt.axis('equal')\n",
    "    plt.show()\n",
    "    \n",
    "print(earth_orbit(365))\n",
    "\n",
    "print(earth_orbit(20))\n",
    "\n",
    "# time unit is 1 year, dt is instead of 1 as dt, have total sim time defined in function in numerator, and steps in denominator"
   ]
  },
  {
   "cell_type": "markdown",
   "metadata": {},
   "source": [
    "# Results\n"
   ]
  },
  {
   "cell_type": "code",
   "execution_count": null,
   "metadata": {},
   "outputs": [],
   "source": []
  },
  {
   "cell_type": "markdown",
   "metadata": {},
   "source": [
    "# Analysis\n"
   ]
  },
  {
   "cell_type": "code",
   "execution_count": null,
   "metadata": {},
   "outputs": [],
   "source": []
  },
  {
   "cell_type": "markdown",
   "metadata": {},
   "source": [
    "# Summary"
   ]
  },
  {
   "cell_type": "markdown",
   "metadata": {},
   "source": [
    "# References\n",
    "\n",
    "List of references\n",
    "\n",
    "* http://datagenetics.com/blog/august32016/index.html\n",
    "* https://www-spof.gsfc.nasa.gov/stargaze/Slagrng2.htm\n",
    "* https://en.wikipedia.org/wiki/Lagrangian_point\n",
    "* \n",
    "* \n",
    "* \n"
   ]
  },
  {
   "cell_type": "code",
   "execution_count": null,
   "metadata": {},
   "outputs": [],
   "source": []
  },
  {
   "cell_type": "code",
   "execution_count": null,
   "metadata": {},
   "outputs": [],
   "source": []
  },
  {
   "cell_type": "code",
   "execution_count": null,
   "metadata": {},
   "outputs": [],
   "source": []
  },
  {
   "cell_type": "code",
   "execution_count": null,
   "metadata": {},
   "outputs": [],
   "source": []
  },
  {
   "cell_type": "code",
   "execution_count": null,
   "metadata": {},
   "outputs": [],
   "source": []
  }
 ],
 "metadata": {
  "kernelspec": {
   "display_name": "Python 3",
   "language": "python",
   "name": "python3"
  },
  "language_info": {
   "codemirror_mode": {
    "name": "ipython",
    "version": 3
   },
   "file_extension": ".py",
   "mimetype": "text/x-python",
   "name": "python",
   "nbconvert_exporter": "python",
   "pygments_lexer": "ipython3",
   "version": "3.7.4"
  }
 },
 "nbformat": 4,
 "nbformat_minor": 2
}
